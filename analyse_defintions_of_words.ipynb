{
 "cells": [
  {
   "cell_type": "code",
   "execution_count": 2,
   "id": "a198536b",
   "metadata": {},
   "outputs": [],
   "source": [
    "import requests\n",
    "from bs4 import BeautifulSoup\n",
    "import pandas as pd\n",
    "from collections import Counter\n",
    "\n",
    "defintions = {}\n",
    "dictionaries = [\"The Free Dictionary\" , \"Oxford\" , \"Merriam-Webster Online\" , \"Dictionary.com\" , \"Cambridge Dictionary\" , \"Wordia\"]\n",
    "prepositions = [\"the\",\"his\",\"a\", \"an\", \"i\", \"and\", \"if\", \":\", \"of\", \"or\", \"in\", \"to\", \"for\", \"with\", \"on\", \"at\", \"from\", \"by\", \"about\", \"as\"]\n",
    "prepositions_to_be_removed = []"
   ]
  },
  {
   "cell_type": "code",
   "execution_count": 3,
   "id": "023ac5ea",
   "metadata": {},
   "outputs": [],
   "source": [
    "def Anatom (word):\n",
    "    prepositions.append(word)\n",
    "    for dictionary in dictionaries:\n",
    "        search = word + \" \" + dictionary + ' Definition & Meaning'\n",
    "        # get the web page\n",
    "        url = 'https://google.com/search?q=' + search\n",
    "        response = requests.get(url)\n",
    "        soup = BeautifulSoup(response.text, 'lxml')\n",
    "        # find and create word defintions\n",
    "        result = soup.find(\"div\" , class_='BNeawe').text\n",
    "        defintions[dictionary] = result\n",
    "        # create dataframe with defintions\n",
    "        df = pd.DataFrame.from_dict(defintions, orient='index')\n",
    "        df.rename(columns = {df.columns[0]:'Definition'}, inplace = True)\n",
    "        # Counter of words in defintion\n",
    "        results = Counter()\n",
    "        df['Definition'].str.lower().str.split().apply(results.update)\n",
    "        # data = pd.DataFrame.from_dict(results)\n",
    "        data = pd.DataFrame({\"Counts\": results})\n",
    "        # remove prepositions and other unwanted letters\n",
    "        for item in prepositions:\n",
    "            if item in data.index:\n",
    "                data.drop(item, inplace=True)\n",
    "        \n",
    "        for ind in data.index:\n",
    "            data.rename(index = {str(ind): ''.join(filter(str.isalpha, ind))})\n",
    "            \n",
    "        # sorting\n",
    "        data.sort_values('Counts', ascending=False, inplace=True)\n",
    "    return data.head(11)"
   ]
  },
  {
   "cell_type": "code",
   "execution_count": 9,
   "id": "377272dc",
   "metadata": {
    "scrolled": true
   },
   "outputs": [
    {
     "data": {
      "text/html": [
       "<div>\n",
       "<style scoped>\n",
       "    .dataframe tbody tr th:only-of-type {\n",
       "        vertical-align: middle;\n",
       "    }\n",
       "\n",
       "    .dataframe tbody tr th {\n",
       "        vertical-align: top;\n",
       "    }\n",
       "\n",
       "    .dataframe thead th {\n",
       "        text-align: right;\n",
       "    }\n",
       "</style>\n",
       "<table border=\"1\" class=\"dataframe\">\n",
       "  <thead>\n",
       "    <tr style=\"text-align: right;\">\n",
       "      <th></th>\n",
       "      <th>Counts</th>\n",
       "    </tr>\n",
       "  </thead>\n",
       "  <tbody>\n",
       "    <tr>\n",
       "      <th>love</th>\n",
       "      <td>7</td>\n",
       "    </tr>\n",
       "    <tr>\n",
       "      <th>affection</th>\n",
       "      <td>6</td>\n",
       "    </tr>\n",
       "    <tr>\n",
       "      <th>strong</th>\n",
       "      <td>5</td>\n",
       "    </tr>\n",
       "    <tr>\n",
       "      <th>sexual</th>\n",
       "      <td>5</td>\n",
       "    </tr>\n",
       "    <tr>\n",
       "      <th>another</th>\n",
       "      <td>4</td>\n",
       "    </tr>\n",
       "    <tr>\n",
       "      <th>very</th>\n",
       "      <td>3</td>\n",
       "    </tr>\n",
       "    <tr>\n",
       "      <th>kinship</th>\n",
       "      <td>3</td>\n",
       "    </tr>\n",
       "    <tr>\n",
       "      <th>he</th>\n",
       "      <td>3</td>\n",
       "    </tr>\n",
       "    <tr>\n",
       "      <th>arising</th>\n",
       "      <td>3</td>\n",
       "    </tr>\n",
       "    <tr>\n",
       "      <th>feeling</th>\n",
       "      <td>3</td>\n",
       "    </tr>\n",
       "    <tr>\n",
       "      <th>٥</th>\n",
       "      <td>2</td>\n",
       "    </tr>\n",
       "  </tbody>\n",
       "</table>\n",
       "</div>"
      ],
      "text/plain": [
       "           Counts\n",
       "love            7\n",
       "affection       6\n",
       "strong          5\n",
       "sexual          5\n",
       "another         4\n",
       "very            3\n",
       "kinship         3\n",
       "he              3\n",
       "arising         3\n",
       "feeling         3\n",
       "٥               2"
      ]
     },
     "execution_count": 9,
     "metadata": {},
     "output_type": "execute_result"
    }
   ],
   "source": [
    "Anatom('Love')"
   ]
  },
  {
   "cell_type": "code",
   "execution_count": null,
   "id": "5a4149b8",
   "metadata": {},
   "outputs": [],
   "source": []
  }
 ],
 "metadata": {
  "kernelspec": {
   "display_name": "Python 3 (ipykernel)",
   "language": "python",
   "name": "python3"
  },
  "language_info": {
   "codemirror_mode": {
    "name": "ipython",
    "version": 3
   },
   "file_extension": ".py",
   "mimetype": "text/x-python",
   "name": "python",
   "nbconvert_exporter": "python",
   "pygments_lexer": "ipython3",
   "version": "3.9.12"
  }
 },
 "nbformat": 4,
 "nbformat_minor": 5
}
