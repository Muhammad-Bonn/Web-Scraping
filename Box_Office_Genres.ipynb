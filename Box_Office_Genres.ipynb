{
 "cells": [
  {
   "cell_type": "code",
   "execution_count": 1,
   "id": "0e04a79f",
   "metadata": {},
   "outputs": [],
   "source": [
    "import requests\n",
    "from bs4 import BeautifulSoup\n",
    "import pandas as pd\n",
    "import warnings\n",
    "warnings.filterwarnings(\"ignore\")"
   ]
  },
  {
   "cell_type": "code",
   "execution_count": 2,
   "id": "697763f6",
   "metadata": {},
   "outputs": [],
   "source": [
    "years = range(1977, 2024)\n",
    "data = pd.DataFrame({'Year':[], 'Rank':[], 'Movie':[], 'Worldewide':[]})"
   ]
  },
  {
   "cell_type": "code",
   "execution_count": 3,
   "id": "7806bb30",
   "metadata": {},
   "outputs": [],
   "source": [
    "ind = 0\n",
    "for year in years:\n",
    "    url = \"https://www.boxofficemojo.com/year/world/\"+str(year)+\"/\"\n",
    "    response = requests.get(url)\n",
    "    soup = BeautifulSoup(response.text, \"html.parser\")\n",
    "    table  = soup.find_all('table')[0]\n",
    "    rows = table.find_all('tr')\n",
    "\n",
    "    for row in rows[1:10]:\n",
    "        cells = row.find_all('td')\n",
    "        number = cells[0].text.strip()\n",
    "        name = cells[1].text.strip()\n",
    "        Worldewide = cells[2].text.strip()\n",
    "        data.loc[int(ind), 'Year'] = int(year)\n",
    "        data.loc[int(ind), 'Rank'] = number\n",
    "        data.loc[int(ind), 'Movie'] = name\n",
    "        data.loc[int(ind), 'Worldewide'] = Worldewide\n",
    "        ind = ind +1"
   ]
  },
  {
   "cell_type": "code",
   "execution_count": 4,
   "id": "7af038f0",
   "metadata": {},
   "outputs": [
    {
     "data": {
      "text/html": [
       "<div>\n",
       "<style scoped>\n",
       "    .dataframe tbody tr th:only-of-type {\n",
       "        vertical-align: middle;\n",
       "    }\n",
       "\n",
       "    .dataframe tbody tr th {\n",
       "        vertical-align: top;\n",
       "    }\n",
       "\n",
       "    .dataframe thead th {\n",
       "        text-align: right;\n",
       "    }\n",
       "</style>\n",
       "<table border=\"1\" class=\"dataframe\">\n",
       "  <thead>\n",
       "    <tr style=\"text-align: right;\">\n",
       "      <th></th>\n",
       "      <th>Year</th>\n",
       "      <th>Rank</th>\n",
       "      <th>Movie</th>\n",
       "      <th>Worldewide</th>\n",
       "    </tr>\n",
       "  </thead>\n",
       "  <tbody>\n",
       "    <tr>\n",
       "      <th>0</th>\n",
       "      <td>1977.0</td>\n",
       "      <td>1</td>\n",
       "      <td>Star Wars: Episode IV - A New Hope</td>\n",
       "      <td>$307,263,857</td>\n",
       "    </tr>\n",
       "    <tr>\n",
       "      <th>1</th>\n",
       "      <td>1977.0</td>\n",
       "      <td>2</td>\n",
       "      <td>Smokey and the Bandit</td>\n",
       "      <td>$126,748,082</td>\n",
       "    </tr>\n",
       "    <tr>\n",
       "      <th>2</th>\n",
       "      <td>1977.0</td>\n",
       "      <td>3</td>\n",
       "      <td>Close Encounters of the Third Kind</td>\n",
       "      <td>$116,395,662</td>\n",
       "    </tr>\n",
       "    <tr>\n",
       "      <th>3</th>\n",
       "      <td>1977.0</td>\n",
       "      <td>4</td>\n",
       "      <td>Saturday Night Fever</td>\n",
       "      <td>$94,213,184</td>\n",
       "    </tr>\n",
       "  </tbody>\n",
       "</table>\n",
       "</div>"
      ],
      "text/plain": [
       "     Year Rank                               Movie    Worldewide\n",
       "0  1977.0    1  Star Wars: Episode IV - A New Hope  $307,263,857\n",
       "1  1977.0    2               Smokey and the Bandit  $126,748,082\n",
       "2  1977.0    3  Close Encounters of the Third Kind  $116,395,662\n",
       "3  1977.0    4                Saturday Night Fever   $94,213,184"
      ]
     },
     "execution_count": 4,
     "metadata": {},
     "output_type": "execute_result"
    }
   ],
   "source": [
    "data.head(4)"
   ]
  },
  {
   "cell_type": "code",
   "execution_count": 5,
   "id": "d27a147e",
   "metadata": {},
   "outputs": [],
   "source": [
    "df= data\n",
    "df = df[df['Year'] >= 1993]"
   ]
  },
  {
   "cell_type": "code",
   "execution_count": 6,
   "id": "8a704c01",
   "metadata": {},
   "outputs": [],
   "source": [
    "df[\"Worldewide\"] = df['Worldewide'].astype(\"string\")\n",
    "df[\"Movie\"] = df['Movie'].astype(\"string\")\n",
    "df[\"Rank\"] = df['Rank'].astype(\"int\")\n",
    "df[\"Year\"] = df['Year'].astype(\"int\")"
   ]
  },
  {
   "cell_type": "code",
   "execution_count": 7,
   "id": "d241f7a2",
   "metadata": {},
   "outputs": [
    {
     "data": {
      "text/plain": [
       "Year           int32\n",
       "Rank           int32\n",
       "Movie         string\n",
       "Worldewide    string\n",
       "dtype: object"
      ]
     },
     "execution_count": 7,
     "metadata": {},
     "output_type": "execute_result"
    }
   ],
   "source": [
    "df.dtypes"
   ]
  },
  {
   "cell_type": "code",
   "execution_count": 8,
   "id": "ff01b727",
   "metadata": {},
   "outputs": [],
   "source": [
    "import locale\n",
    "locale.setlocale(locale.LC_ALL, 'en_US.UTF8')\n",
    "\n",
    "for i, money in df['Worldewide'].items():\n",
    "    mon = locale.atof(money.strip(\"$\"))\n",
    "    df.loc[int(i), 'Worldewide'] = str(round(mon))"
   ]
  },
  {
   "cell_type": "code",
   "execution_count": 9,
   "id": "3013b929",
   "metadata": {},
   "outputs": [
    {
     "data": {
      "text/plain": [
       "Year           int32\n",
       "Rank           int32\n",
       "Movie         string\n",
       "Worldewide    string\n",
       "dtype: object"
      ]
     },
     "execution_count": 9,
     "metadata": {},
     "output_type": "execute_result"
    }
   ],
   "source": [
    "df.dtypes"
   ]
  },
  {
   "cell_type": "code",
   "execution_count": 10,
   "id": "3ed11183",
   "metadata": {},
   "outputs": [],
   "source": [
    "df[\"Worldewide\"] = df['Worldewide'].astype(\"float\")"
   ]
  },
  {
   "cell_type": "code",
   "execution_count": 11,
   "id": "5d1d2d49",
   "metadata": {},
   "outputs": [],
   "source": [
    "df = df.sort_values(by=['Worldewide'], ascending=False).set_index('Year')"
   ]
  },
  {
   "cell_type": "code",
   "execution_count": 13,
   "id": "3cf0a57d",
   "metadata": {},
   "outputs": [
    {
     "data": {
      "text/html": [
       "<div>\n",
       "<style scoped>\n",
       "    .dataframe tbody tr th:only-of-type {\n",
       "        vertical-align: middle;\n",
       "    }\n",
       "\n",
       "    .dataframe tbody tr th {\n",
       "        vertical-align: top;\n",
       "    }\n",
       "\n",
       "    .dataframe thead th {\n",
       "        text-align: right;\n",
       "    }\n",
       "</style>\n",
       "<table border=\"1\" class=\"dataframe\">\n",
       "  <thead>\n",
       "    <tr style=\"text-align: right;\">\n",
       "      <th></th>\n",
       "      <th>Rank</th>\n",
       "      <th>Movie</th>\n",
       "      <th>Worldewide</th>\n",
       "    </tr>\n",
       "    <tr>\n",
       "      <th>Year</th>\n",
       "      <th></th>\n",
       "      <th></th>\n",
       "      <th></th>\n",
       "    </tr>\n",
       "  </thead>\n",
       "  <tbody>\n",
       "    <tr>\n",
       "      <th>2019</th>\n",
       "      <td>1</td>\n",
       "      <td>Avengers: Endgame</td>\n",
       "      <td>2.799439e+09</td>\n",
       "    </tr>\n",
       "    <tr>\n",
       "      <th>2009</th>\n",
       "      <td>1</td>\n",
       "      <td>Avatar</td>\n",
       "      <td>2.743578e+09</td>\n",
       "    </tr>\n",
       "    <tr>\n",
       "      <th>2022</th>\n",
       "      <td>1</td>\n",
       "      <td>Avatar: The Way of Water</td>\n",
       "      <td>2.320250e+09</td>\n",
       "    </tr>\n",
       "    <tr>\n",
       "      <th>2015</th>\n",
       "      <td>1</td>\n",
       "      <td>Star Wars: Episode VII - The Force Awakens</td>\n",
       "      <td>2.068224e+09</td>\n",
       "    </tr>\n",
       "  </tbody>\n",
       "</table>\n",
       "</div>"
      ],
      "text/plain": [
       "      Rank                                       Movie    Worldewide\n",
       "Year                                                                \n",
       "2019     1                           Avengers: Endgame  2.799439e+09\n",
       "2009     1                                      Avatar  2.743578e+09\n",
       "2022     1                    Avatar: The Way of Water  2.320250e+09\n",
       "2015     1  Star Wars: Episode VII - The Force Awakens  2.068224e+09"
      ]
     },
     "execution_count": 13,
     "metadata": {},
     "output_type": "execute_result"
    }
   ],
   "source": [
    "df.head(4)"
   ]
  },
  {
   "cell_type": "code",
   "execution_count": 17,
   "id": "03b2af1b",
   "metadata": {},
   "outputs": [],
   "source": [
    "df2 = data[data['Year'] >= 1993]\n",
    "df2 = df2.reset_index()\n",
    "df2 = df2.drop(columns=['index'])"
   ]
  },
  {
   "cell_type": "code",
   "execution_count": 18,
   "id": "d96b87a1",
   "metadata": {},
   "outputs": [
    {
     "data": {
      "text/html": [
       "<div>\n",
       "<style scoped>\n",
       "    .dataframe tbody tr th:only-of-type {\n",
       "        vertical-align: middle;\n",
       "    }\n",
       "\n",
       "    .dataframe tbody tr th {\n",
       "        vertical-align: top;\n",
       "    }\n",
       "\n",
       "    .dataframe thead th {\n",
       "        text-align: right;\n",
       "    }\n",
       "</style>\n",
       "<table border=\"1\" class=\"dataframe\">\n",
       "  <thead>\n",
       "    <tr style=\"text-align: right;\">\n",
       "      <th></th>\n",
       "      <th>Year</th>\n",
       "      <th>Rank</th>\n",
       "      <th>Movie</th>\n",
       "      <th>Worldewide</th>\n",
       "    </tr>\n",
       "  </thead>\n",
       "  <tbody>\n",
       "    <tr>\n",
       "      <th>0</th>\n",
       "      <td>1993.0</td>\n",
       "      <td>1</td>\n",
       "      <td>Jurassic Park</td>\n",
       "      <td>$978,167,947</td>\n",
       "    </tr>\n",
       "    <tr>\n",
       "      <th>1</th>\n",
       "      <td>1993.0</td>\n",
       "      <td>2</td>\n",
       "      <td>Mrs. Doubtfire</td>\n",
       "      <td>$219,195,446</td>\n",
       "    </tr>\n",
       "    <tr>\n",
       "      <th>2</th>\n",
       "      <td>1993.0</td>\n",
       "      <td>3</td>\n",
       "      <td>The Fugitive</td>\n",
       "      <td>$183,875,799</td>\n",
       "    </tr>\n",
       "    <tr>\n",
       "      <th>3</th>\n",
       "      <td>1993.0</td>\n",
       "      <td>4</td>\n",
       "      <td>The Firm</td>\n",
       "      <td>$158,348,367</td>\n",
       "    </tr>\n",
       "  </tbody>\n",
       "</table>\n",
       "</div>"
      ],
      "text/plain": [
       "     Year Rank           Movie    Worldewide\n",
       "0  1993.0    1   Jurassic Park  $978,167,947\n",
       "1  1993.0    2  Mrs. Doubtfire  $219,195,446\n",
       "2  1993.0    3    The Fugitive  $183,875,799\n",
       "3  1993.0    4        The Firm  $158,348,367"
      ]
     },
     "execution_count": 18,
     "metadata": {},
     "output_type": "execute_result"
    }
   ],
   "source": [
    "df2.head(4)"
   ]
  },
  {
   "cell_type": "code",
   "execution_count": 21,
   "id": "e4699e58",
   "metadata": {},
   "outputs": [],
   "source": [
    "years = []\n",
    "for year in df2['Year']:\n",
    "    year = int(year)\n",
    "    years.append(year)\n",
    "    \n",
    "df2['Year'] = years"
   ]
  },
  {
   "cell_type": "code",
   "execution_count": 22,
   "id": "b6383a11",
   "metadata": {},
   "outputs": [],
   "source": [
    "links = []\n",
    "for movie in df2['Movie']:\n",
    "    url = 'https://www.rottentomatoes.com/search?search='+str(movie)\n",
    "    response = requests.get(url)\n",
    "    moviesoup = BeautifulSoup(response.text, 'html.parser')\n",
    "    \n",
    "    table = moviesoup.find_all('ul')[18]\n",
    "    link = table.find_all('a')[0].get(\"href\")\n",
    "    links.append(link)\n",
    "    \n",
    "df2['Link'] = links"
   ]
  },
  {
   "cell_type": "code",
   "execution_count": 24,
   "id": "8ee8c409",
   "metadata": {},
   "outputs": [
    {
     "data": {
      "text/html": [
       "<div>\n",
       "<style scoped>\n",
       "    .dataframe tbody tr th:only-of-type {\n",
       "        vertical-align: middle;\n",
       "    }\n",
       "\n",
       "    .dataframe tbody tr th {\n",
       "        vertical-align: top;\n",
       "    }\n",
       "\n",
       "    .dataframe thead th {\n",
       "        text-align: right;\n",
       "    }\n",
       "</style>\n",
       "<table border=\"1\" class=\"dataframe\">\n",
       "  <thead>\n",
       "    <tr style=\"text-align: right;\">\n",
       "      <th></th>\n",
       "      <th>Year</th>\n",
       "      <th>Rank</th>\n",
       "      <th>Movie</th>\n",
       "      <th>Worldewide</th>\n",
       "      <th>Link</th>\n",
       "    </tr>\n",
       "  </thead>\n",
       "  <tbody>\n",
       "    <tr>\n",
       "      <th>0</th>\n",
       "      <td>1993</td>\n",
       "      <td>1</td>\n",
       "      <td>Jurassic Park</td>\n",
       "      <td>$978,167,947</td>\n",
       "      <td>https://www.rottentomatoes.com/m/jurassic_park</td>\n",
       "    </tr>\n",
       "    <tr>\n",
       "      <th>1</th>\n",
       "      <td>1993</td>\n",
       "      <td>2</td>\n",
       "      <td>Mrs. Doubtfire</td>\n",
       "      <td>$219,195,446</td>\n",
       "      <td>https://www.rottentomatoes.com/m/mrs_doubtfire</td>\n",
       "    </tr>\n",
       "    <tr>\n",
       "      <th>2</th>\n",
       "      <td>1993</td>\n",
       "      <td>3</td>\n",
       "      <td>The Fugitive</td>\n",
       "      <td>$183,875,799</td>\n",
       "      <td>https://www.rottentomatoes.com/m/1046129-fugitive</td>\n",
       "    </tr>\n",
       "    <tr>\n",
       "      <th>3</th>\n",
       "      <td>1993</td>\n",
       "      <td>4</td>\n",
       "      <td>The Firm</td>\n",
       "      <td>$158,348,367</td>\n",
       "      <td>https://www.rottentomatoes.com/m/1044522-firm</td>\n",
       "    </tr>\n",
       "  </tbody>\n",
       "</table>\n",
       "</div>"
      ],
      "text/plain": [
       "   Year Rank           Movie    Worldewide  \\\n",
       "0  1993    1   Jurassic Park  $978,167,947   \n",
       "1  1993    2  Mrs. Doubtfire  $219,195,446   \n",
       "2  1993    3    The Fugitive  $183,875,799   \n",
       "3  1993    4        The Firm  $158,348,367   \n",
       "\n",
       "                                                Link  \n",
       "0     https://www.rottentomatoes.com/m/jurassic_park  \n",
       "1     https://www.rottentomatoes.com/m/mrs_doubtfire  \n",
       "2  https://www.rottentomatoes.com/m/1046129-fugitive  \n",
       "3      https://www.rottentomatoes.com/m/1044522-firm  "
      ]
     },
     "execution_count": 24,
     "metadata": {},
     "output_type": "execute_result"
    }
   ],
   "source": [
    "df2.head(4)"
   ]
  },
  {
   "cell_type": "code",
   "execution_count": 29,
   "id": "285019dd",
   "metadata": {},
   "outputs": [],
   "source": [
    "genres = []\n",
    "for movie in df2['Movie']:\n",
    "    ind = df2.index[df2['Movie'] == movie][0]\n",
    "    url = df2['Link'].iloc[ind]\n",
    "    \n",
    "    response = requests.get(url)\n",
    "    moviesoup = BeautifulSoup(response.text, 'html.parser')\n",
    "    \n",
    "    x = str(moviesoup).find('genre')\n",
    "    if x == -1:\n",
    "        genre_list = ''\n",
    "    else:\n",
    "        gens = str(moviesoup)[x+8:x+100].split(']')[0][:-1].split(',')\n",
    "        genre_list = gens\n",
    "    genres.append(genre_list)    \n",
    "\n",
    "df2['Genre'] = genres"
   ]
  },
  {
   "cell_type": "code",
   "execution_count": 30,
   "id": "0f7a4d71",
   "metadata": {},
   "outputs": [
    {
     "data": {
      "text/html": [
       "<div>\n",
       "<style scoped>\n",
       "    .dataframe tbody tr th:only-of-type {\n",
       "        vertical-align: middle;\n",
       "    }\n",
       "\n",
       "    .dataframe tbody tr th {\n",
       "        vertical-align: top;\n",
       "    }\n",
       "\n",
       "    .dataframe thead th {\n",
       "        text-align: right;\n",
       "    }\n",
       "</style>\n",
       "<table border=\"1\" class=\"dataframe\">\n",
       "  <thead>\n",
       "    <tr style=\"text-align: right;\">\n",
       "      <th></th>\n",
       "      <th>Year</th>\n",
       "      <th>Rank</th>\n",
       "      <th>Movie</th>\n",
       "      <th>Worldewide</th>\n",
       "      <th>Link</th>\n",
       "      <th>Genre</th>\n",
       "    </tr>\n",
       "  </thead>\n",
       "  <tbody>\n",
       "    <tr>\n",
       "      <th>0</th>\n",
       "      <td>1993</td>\n",
       "      <td>1</td>\n",
       "      <td>Jurassic Park</td>\n",
       "      <td>$978,167,947</td>\n",
       "      <td>https://www.rottentomatoes.com/m/jurassic_park</td>\n",
       "      <td>[\"Adventure\", \"Action\", \"Sci-Fi\", \"Mystery &amp; T...</td>\n",
       "    </tr>\n",
       "    <tr>\n",
       "      <th>1</th>\n",
       "      <td>1993</td>\n",
       "      <td>2</td>\n",
       "      <td>Mrs. Doubtfire</td>\n",
       "      <td>$219,195,446</td>\n",
       "      <td>https://www.rottentomatoes.com/m/mrs_doubtfire</td>\n",
       "      <td>[\"Kids &amp; Family\", \"Comedy]</td>\n",
       "    </tr>\n",
       "    <tr>\n",
       "      <th>2</th>\n",
       "      <td>1993</td>\n",
       "      <td>3</td>\n",
       "      <td>The Fugitive</td>\n",
       "      <td>$183,875,799</td>\n",
       "      <td>https://www.rottentomatoes.com/m/1046129-fugitive</td>\n",
       "      <td>[\"Action\", \"Mystery &amp; Thriller]</td>\n",
       "    </tr>\n",
       "    <tr>\n",
       "      <th>3</th>\n",
       "      <td>1993</td>\n",
       "      <td>4</td>\n",
       "      <td>The Firm</td>\n",
       "      <td>$158,348,367</td>\n",
       "      <td>https://www.rottentomatoes.com/m/1044522-firm</td>\n",
       "      <td>[\"Drama\", \"Mystery &amp; Thriller]</td>\n",
       "    </tr>\n",
       "    <tr>\n",
       "      <th>4</th>\n",
       "      <td>1993</td>\n",
       "      <td>5</td>\n",
       "      <td>Sleepless in Seattle</td>\n",
       "      <td>$126,680,884</td>\n",
       "      <td>https://www.rottentomatoes.com/m/sleepless_in_...</td>\n",
       "      <td>[\"Romance\", \"Comedy]</td>\n",
       "    </tr>\n",
       "    <tr>\n",
       "      <th>...</th>\n",
       "      <td>...</td>\n",
       "      <td>...</td>\n",
       "      <td>...</td>\n",
       "      <td>...</td>\n",
       "      <td>...</td>\n",
       "      <td>...</td>\n",
       "    </tr>\n",
       "    <tr>\n",
       "      <th>274</th>\n",
       "      <td>2023</td>\n",
       "      <td>5</td>\n",
       "      <td>Fast X</td>\n",
       "      <td>$704,875,015</td>\n",
       "      <td>https://www.rottentomatoes.com/m/fast_x</td>\n",
       "      <td>[\"Action\", \"Adventure]</td>\n",
       "    </tr>\n",
       "    <tr>\n",
       "      <th>275</th>\n",
       "      <td>2023</td>\n",
       "      <td>6</td>\n",
       "      <td>Spider-Man: Across the Spider-Verse</td>\n",
       "      <td>$690,615,475</td>\n",
       "      <td>https://www.rottentomatoes.com/m/spider_man_ac...</td>\n",
       "      <td>[\"Kids &amp; Family\", \"Action\", \"Adventure\", \"Come...</td>\n",
       "    </tr>\n",
       "    <tr>\n",
       "      <th>276</th>\n",
       "      <td>2023</td>\n",
       "      <td>7</td>\n",
       "      <td>Wonka</td>\n",
       "      <td>$632,302,312</td>\n",
       "      <td>https://www.rottentomatoes.com/m/wonka</td>\n",
       "      <td>[\"Kids &amp; Family\", \"Musical\", \"Comedy\", \"Fantasy]</td>\n",
       "    </tr>\n",
       "    <tr>\n",
       "      <th>277</th>\n",
       "      <td>2023</td>\n",
       "      <td>8</td>\n",
       "      <td>The Little Mermaid</td>\n",
       "      <td>$569,626,289</td>\n",
       "      <td>https://www.rottentomatoes.com/m/the_little_me...</td>\n",
       "      <td>[\"Kids &amp; Family\", \"Musical\", \"Fantasy\", \"Romance]</td>\n",
       "    </tr>\n",
       "    <tr>\n",
       "      <th>278</th>\n",
       "      <td>2023</td>\n",
       "      <td>9</td>\n",
       "      <td>Mission: Impossible - Dead Reckoning Part One</td>\n",
       "      <td>$567,535,383</td>\n",
       "      <td>https://www.rottentomatoes.com/m/mission_impos...</td>\n",
       "      <td>[\"Action\", \"Adventure\", \"Mystery &amp; Thriller]</td>\n",
       "    </tr>\n",
       "  </tbody>\n",
       "</table>\n",
       "<p>279 rows × 6 columns</p>\n",
       "</div>"
      ],
      "text/plain": [
       "     Year Rank                                          Movie    Worldewide  \\\n",
       "0    1993    1                                  Jurassic Park  $978,167,947   \n",
       "1    1993    2                                 Mrs. Doubtfire  $219,195,446   \n",
       "2    1993    3                                   The Fugitive  $183,875,799   \n",
       "3    1993    4                                       The Firm  $158,348,367   \n",
       "4    1993    5                           Sleepless in Seattle  $126,680,884   \n",
       "..    ...  ...                                            ...           ...   \n",
       "274  2023    5                                         Fast X  $704,875,015   \n",
       "275  2023    6            Spider-Man: Across the Spider-Verse  $690,615,475   \n",
       "276  2023    7                                          Wonka  $632,302,312   \n",
       "277  2023    8                             The Little Mermaid  $569,626,289   \n",
       "278  2023    9  Mission: Impossible - Dead Reckoning Part One  $567,535,383   \n",
       "\n",
       "                                                  Link  \\\n",
       "0       https://www.rottentomatoes.com/m/jurassic_park   \n",
       "1       https://www.rottentomatoes.com/m/mrs_doubtfire   \n",
       "2    https://www.rottentomatoes.com/m/1046129-fugitive   \n",
       "3        https://www.rottentomatoes.com/m/1044522-firm   \n",
       "4    https://www.rottentomatoes.com/m/sleepless_in_...   \n",
       "..                                                 ...   \n",
       "274            https://www.rottentomatoes.com/m/fast_x   \n",
       "275  https://www.rottentomatoes.com/m/spider_man_ac...   \n",
       "276             https://www.rottentomatoes.com/m/wonka   \n",
       "277  https://www.rottentomatoes.com/m/the_little_me...   \n",
       "278  https://www.rottentomatoes.com/m/mission_impos...   \n",
       "\n",
       "                                                 Genre  \n",
       "0    [\"Adventure\", \"Action\", \"Sci-Fi\", \"Mystery & T...  \n",
       "1                           [\"Kids & Family\", \"Comedy]  \n",
       "2                      [\"Action\", \"Mystery & Thriller]  \n",
       "3                       [\"Drama\", \"Mystery & Thriller]  \n",
       "4                                 [\"Romance\", \"Comedy]  \n",
       "..                                                 ...  \n",
       "274                             [\"Action\", \"Adventure]  \n",
       "275  [\"Kids & Family\", \"Action\", \"Adventure\", \"Come...  \n",
       "276   [\"Kids & Family\", \"Musical\", \"Comedy\", \"Fantasy]  \n",
       "277  [\"Kids & Family\", \"Musical\", \"Fantasy\", \"Romance]  \n",
       "278       [\"Action\", \"Adventure\", \"Mystery & Thriller]  \n",
       "\n",
       "[279 rows x 6 columns]"
      ]
     },
     "execution_count": 30,
     "metadata": {},
     "output_type": "execute_result"
    }
   ],
   "source": [
    "df2"
   ]
  },
  {
   "cell_type": "code",
   "execution_count": 45,
   "id": "939de705",
   "metadata": {},
   "outputs": [],
   "source": [
    "Gens = df2"
   ]
  },
  {
   "cell_type": "code",
   "execution_count": 46,
   "id": "77d49504",
   "metadata": {},
   "outputs": [],
   "source": [
    "gens = Gens['Genre']"
   ]
  },
  {
   "cell_type": "code",
   "execution_count": 50,
   "id": "410c2158",
   "metadata": {},
   "outputs": [],
   "source": [
    "genre_final_list = []\n",
    "for gen in gens:\n",
    "    for g in gen:\n",
    "        genre_final_list.append(g)"
   ]
  },
  {
   "cell_type": "code",
   "execution_count": 55,
   "id": "87026d1c",
   "metadata": {},
   "outputs": [],
   "source": [
    "last_list = []\n",
    "for gen in genre_final_list:\n",
    "    new = gen.replace('\"','')\n",
    "    last_list.append(new)"
   ]
  },
  {
   "cell_type": "code",
   "execution_count": 57,
   "id": "467f35bf",
   "metadata": {},
   "outputs": [
    {
     "data": {
      "text/plain": [
       "856"
      ]
     },
     "execution_count": 57,
     "metadata": {},
     "output_type": "execute_result"
    }
   ],
   "source": [
    "list(set(last_list))"
   ]
  },
  {
   "cell_type": "code",
   "execution_count": 74,
   "id": "4d404f91",
   "metadata": {},
   "outputs": [],
   "source": [
    "dataframe = pd.DataFrame(last_list, columns=['Genre'])\n",
    "Counts = dataframe['Genre'].value_counts().tolist()\n",
    "Genre = dataframe['Genre'].unique().tolist()"
   ]
  },
  {
   "cell_type": "code",
   "execution_count": 75,
   "id": "e15e31fe",
   "metadata": {},
   "outputs": [],
   "source": [
    "final_data = pd.DataFrame()"
   ]
  },
  {
   "cell_type": "code",
   "execution_count": 76,
   "id": "e7b87ebf",
   "metadata": {},
   "outputs": [],
   "source": [
    "final_data['Genre'] = Genre\n",
    "final_data['Counts'] = Counts"
   ]
  },
  {
   "cell_type": "code",
   "execution_count": 77,
   "id": "2e9a2320",
   "metadata": {},
   "outputs": [
    {
     "data": {
      "text/html": [
       "<div>\n",
       "<style scoped>\n",
       "    .dataframe tbody tr th:only-of-type {\n",
       "        vertical-align: middle;\n",
       "    }\n",
       "\n",
       "    .dataframe tbody tr th {\n",
       "        vertical-align: top;\n",
       "    }\n",
       "\n",
       "    .dataframe thead th {\n",
       "        text-align: right;\n",
       "    }\n",
       "</style>\n",
       "<table border=\"1\" class=\"dataframe\">\n",
       "  <thead>\n",
       "    <tr style=\"text-align: right;\">\n",
       "      <th></th>\n",
       "      <th>Genre</th>\n",
       "      <th>Counts</th>\n",
       "    </tr>\n",
       "  </thead>\n",
       "  <tbody>\n",
       "    <tr>\n",
       "      <th>0</th>\n",
       "      <td>Adventure</td>\n",
       "      <td>186</td>\n",
       "    </tr>\n",
       "    <tr>\n",
       "      <th>1</th>\n",
       "      <td>Action</td>\n",
       "      <td>143</td>\n",
       "    </tr>\n",
       "    <tr>\n",
       "      <th>2</th>\n",
       "      <td>Sci-Fi</td>\n",
       "      <td>108</td>\n",
       "    </tr>\n",
       "    <tr>\n",
       "      <th>3</th>\n",
       "      <td>Mystery &amp; Thriller</td>\n",
       "      <td>105</td>\n",
       "    </tr>\n",
       "    <tr>\n",
       "      <th>4</th>\n",
       "      <td>Kids &amp; Family</td>\n",
       "      <td>66</td>\n",
       "    </tr>\n",
       "    <tr>\n",
       "      <th>5</th>\n",
       "      <td>Comedy</td>\n",
       "      <td>63</td>\n",
       "    </tr>\n",
       "    <tr>\n",
       "      <th>6</th>\n",
       "      <td>Drama</td>\n",
       "      <td>47</td>\n",
       "    </tr>\n",
       "    <tr>\n",
       "      <th>7</th>\n",
       "      <td>Romance</td>\n",
       "      <td>39</td>\n",
       "    </tr>\n",
       "    <tr>\n",
       "      <th>8</th>\n",
       "      <td>Crime</td>\n",
       "      <td>35</td>\n",
       "    </tr>\n",
       "    <tr>\n",
       "      <th>9</th>\n",
       "      <td>History</td>\n",
       "      <td>18</td>\n",
       "    </tr>\n",
       "    <tr>\n",
       "      <th>10</th>\n",
       "      <td>Musical</td>\n",
       "      <td>10</td>\n",
       "    </tr>\n",
       "    <tr>\n",
       "      <th>11</th>\n",
       "      <td>Animation</td>\n",
       "      <td>9</td>\n",
       "    </tr>\n",
       "    <tr>\n",
       "      <th>12</th>\n",
       "      <td>Holiday</td>\n",
       "      <td>7</td>\n",
       "    </tr>\n",
       "    <tr>\n",
       "      <th>13</th>\n",
       "      <td>Fantasy</td>\n",
       "      <td>6</td>\n",
       "    </tr>\n",
       "    <tr>\n",
       "      <th>14</th>\n",
       "      <td>LGBTQ+</td>\n",
       "      <td>3</td>\n",
       "    </tr>\n",
       "    <tr>\n",
       "      <th>15</th>\n",
       "      <td>War</td>\n",
       "      <td>3</td>\n",
       "    </tr>\n",
       "    <tr>\n",
       "      <th>16</th>\n",
       "      <td>Biography</td>\n",
       "      <td>2</td>\n",
       "    </tr>\n",
       "    <tr>\n",
       "      <th>17</th>\n",
       "      <td>Sports</td>\n",
       "      <td>2</td>\n",
       "    </tr>\n",
       "    <tr>\n",
       "      <th>18</th>\n",
       "      <td>Horror</td>\n",
       "      <td>2</td>\n",
       "    </tr>\n",
       "    <tr>\n",
       "      <th>19</th>\n",
       "      <td>Music</td>\n",
       "      <td>1</td>\n",
       "    </tr>\n",
       "    <tr>\n",
       "      <th>20</th>\n",
       "      <td>Anime</td>\n",
       "      <td>1</td>\n",
       "    </tr>\n",
       "  </tbody>\n",
       "</table>\n",
       "</div>"
      ],
      "text/plain": [
       "                 Genre  Counts\n",
       "0            Adventure     186\n",
       "1               Action     143\n",
       "2               Sci-Fi     108\n",
       "3   Mystery & Thriller     105\n",
       "4        Kids & Family      66\n",
       "5               Comedy      63\n",
       "6                Drama      47\n",
       "7              Romance      39\n",
       "8                Crime      35\n",
       "9              History      18\n",
       "10             Musical      10\n",
       "11           Animation       9\n",
       "12             Holiday       7\n",
       "13             Fantasy       6\n",
       "14              LGBTQ+       3\n",
       "15                 War       3\n",
       "16           Biography       2\n",
       "17              Sports       2\n",
       "18              Horror       2\n",
       "19               Music       1\n",
       "20               Anime       1"
      ]
     },
     "execution_count": 77,
     "metadata": {},
     "output_type": "execute_result"
    }
   ],
   "source": [
    "final_data"
   ]
  },
  {
   "cell_type": "code",
   "execution_count": 87,
   "id": "b5d7d8bd",
   "metadata": {},
   "outputs": [
    {
     "data": {
      "image/png": "[encoded data removed]",
      "text/plain": [
       "<Figure size 432x288 with 1 Axes>"
      ]
     },
     "metadata": {},
     "output_type": "display_data"
    }
   ],
   "source": [
    "from matplotlib import pyplot as plt\n",
    "plt.pie(final_data['Counts'], labels = final_data['Genre'])\n",
    "plt.axis('equal')\n",
    "plt.title('Winning Movies Types in Box Office')\n",
    "plt.show()"
   ]
  },
  {
   "cell_type": "code",
   "execution_count": 112,
   "id": "407f7896",
   "metadata": {},
   "outputs": [],
   "source": [
    "after_editing = final_data[final_data['Counts']>9]\n",
    "others = final_data[final_data['Counts']<=9]"
   ]
  },
  {
   "cell_type": "code",
   "execution_count": 113,
   "id": "86dd320c",
   "metadata": {},
   "outputs": [],
   "source": [
    "new_row = {'Genre':'Others', 'Counts':others['Counts'].sum()}\n",
    "after_editing = after_editing.append(new_row, ignore_index=True)"
   ]
  },
  {
   "cell_type": "code",
   "execution_count": 115,
   "id": "0a37833a",
   "metadata": {},
   "outputs": [
    {
     "data": {
      "text/html": [
       "<div>\n",
       "<style scoped>\n",
       "    .dataframe tbody tr th:only-of-type {\n",
       "        vertical-align: middle;\n",
       "    }\n",
       "\n",
       "    .dataframe tbody tr th {\n",
       "        vertical-align: top;\n",
       "    }\n",
       "\n",
       "    .dataframe thead th {\n",
       "        text-align: right;\n",
       "    }\n",
       "</style>\n",
       "<table border=\"1\" class=\"dataframe\">\n",
       "  <thead>\n",
       "    <tr style=\"text-align: right;\">\n",
       "      <th></th>\n",
       "      <th>Genre</th>\n",
       "      <th>Counts</th>\n",
       "    </tr>\n",
       "  </thead>\n",
       "  <tbody>\n",
       "    <tr>\n",
       "      <th>0</th>\n",
       "      <td>Adventure</td>\n",
       "      <td>186</td>\n",
       "    </tr>\n",
       "    <tr>\n",
       "      <th>1</th>\n",
       "      <td>Action</td>\n",
       "      <td>143</td>\n",
       "    </tr>\n",
       "    <tr>\n",
       "      <th>2</th>\n",
       "      <td>Sci-Fi</td>\n",
       "      <td>108</td>\n",
       "    </tr>\n",
       "    <tr>\n",
       "      <th>3</th>\n",
       "      <td>Mystery &amp; Thriller</td>\n",
       "      <td>105</td>\n",
       "    </tr>\n",
       "    <tr>\n",
       "      <th>4</th>\n",
       "      <td>Kids &amp; Family</td>\n",
       "      <td>66</td>\n",
       "    </tr>\n",
       "    <tr>\n",
       "      <th>5</th>\n",
       "      <td>Comedy</td>\n",
       "      <td>63</td>\n",
       "    </tr>\n",
       "    <tr>\n",
       "      <th>6</th>\n",
       "      <td>Drama</td>\n",
       "      <td>47</td>\n",
       "    </tr>\n",
       "    <tr>\n",
       "      <th>7</th>\n",
       "      <td>Romance</td>\n",
       "      <td>39</td>\n",
       "    </tr>\n",
       "    <tr>\n",
       "      <th>8</th>\n",
       "      <td>Crime</td>\n",
       "      <td>35</td>\n",
       "    </tr>\n",
       "    <tr>\n",
       "      <th>9</th>\n",
       "      <td>History</td>\n",
       "      <td>18</td>\n",
       "    </tr>\n",
       "    <tr>\n",
       "      <th>10</th>\n",
       "      <td>Musical</td>\n",
       "      <td>10</td>\n",
       "    </tr>\n",
       "    <tr>\n",
       "      <th>11</th>\n",
       "      <td>Others</td>\n",
       "      <td>36</td>\n",
       "    </tr>\n",
       "  </tbody>\n",
       "</table>\n",
       "</div>"
      ],
      "text/plain": [
       "                 Genre  Counts\n",
       "0            Adventure     186\n",
       "1               Action     143\n",
       "2               Sci-Fi     108\n",
       "3   Mystery & Thriller     105\n",
       "4        Kids & Family      66\n",
       "5               Comedy      63\n",
       "6                Drama      47\n",
       "7              Romance      39\n",
       "8                Crime      35\n",
       "9              History      18\n",
       "10             Musical      10\n",
       "11              Others      36"
      ]
     },
     "execution_count": 115,
     "metadata": {},
     "output_type": "execute_result"
    }
   ],
   "source": [
    "after_editing"
   ]
  },
  {
   "cell_type": "code",
   "execution_count": 184,
   "id": "4efacf2f",
   "metadata": {},
   "outputs": [
    {
     "data": {
      "image/png": "[encoded data removed]",
      "text/plain": [
       "<Figure size 864x864 with 1 Axes>"
      ]
     },
     "metadata": {},
     "output_type": "display_data"
    }
   ],
   "source": [
    "ex = [0.2]+[0.19,0.18,0.17,0.16,0.15,0.14,0.13,0.12,0.11,0.1,0.09]\n",
    "plt.figure(figsize=(12, 12))\n",
    "plt.pie(after_editing['Counts'], labels = after_editing['Genre'],\n",
    "        autopct='%1.1f%%', shadow=False, startangle=0, explode=ex, frame= False)\n",
    "plt.title('Winning Movies Types in Box Office')\n",
    "plt.axis('equal')\n",
    "plt.show()\n"
   ]
  },
  {
   "cell_type": "code",
   "execution_count": null,
   "id": "d82937e2",
   "metadata": {},
   "outputs": [],
   "source": []
  }
 ],
 "metadata": {
  "kernelspec": {
   "display_name": "Python 3 (ipykernel)",
   "language": "python",
   "name": "python3"
  },
  "language_info": {
   "codemirror_mode": {
    "name": "ipython",
    "version": 3
   },
   "file_extension": ".py",
   "mimetype": "text/x-python",
   "name": "python",
   "nbconvert_exporter": "python",
   "pygments_lexer": "ipython3",
   "version": "3.9.12"
  }
 },
 "nbformat": 4,
 "nbformat_minor": 5
}
