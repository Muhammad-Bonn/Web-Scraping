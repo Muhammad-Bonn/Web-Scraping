{
 "cells": [
  {
   "cell_type": "code",
   "execution_count": 2,
   "id": "e5731839-5d2a-4dcc-8e52-cbea49bac631",
   "metadata": {},
   "outputs": [],
   "source": [
    "import requests\n",
    "from bs4 import BeautifulSoup as bs\n",
    "from pathlib import Path\n",
    "from urllib.parse import quote"
   ]
  },
  {
   "cell_type": "code",
   "execution_count": 4,
   "id": "db552c49-3782-43a5-9d8a-829c37fb3f2d",
   "metadata": {},
   "outputs": [],
   "source": [
    "# Open txt file with the required arts\n",
    "with open('artlist.txt', 'r', encoding='utf-8') as f:\n",
    "    artlist = [line.strip() for line in f]\n",
    "\n",
    "# Creating a New Folder\n",
    "folder = Path.home() / 'Desktop' / 'WikiArt101'\n",
    "folder.mkdir(exist_ok=True)\n",
    "\n",
    "# wiki API\n",
    "api_url = \"https://en.wikipedia.org/w/api.php\"\n",
    "se = requests.Session()\n",
    "# Send a GET request with a valid User-Agent\n",
    "headers = {\n",
    "    \"User-Agent\": \"Mozilla/5.0 (Windows NT 10.0; Win64; x64) \"\n",
    "                  \"AppleWebKit/537.36 (KHTML, like Gecko) \"\n",
    "                  \"Chrome/120.0.0.0 Safari/537.36\"\n",
    "}"
   ]
  },
  {
   "cell_type": "code",
   "execution_count": 4,
   "id": "83a44ba1-4574-4e25-b03b-edb3acd05d1c",
   "metadata": {},
   "outputs": [],
   "source": [
    "for art in artlist:\n",
    "    para1 = {\"action\": \"query\", \"format\": \"json\", \"list\": \"search\", \"srsearch\": art}\n",
    "    res = se.get(url = api_url, params = para1).json()\n",
    "\n",
    "    if 'query' in res and res['query']['search']:\n",
    "        name = res['query']['search'][0]['title']\n",
    "        \n",
    "        # request the original full-size image\n",
    "        para2 = {\"action\": \"query\", \"format\": \"json\", \"prop\": \"pageimages\", \n",
    "                \"piprop\": \"original\", \"titles\": name, \n",
    "                \"formatversion\": 2}\n",
    "        \n",
    "        res2 = requests.get(api_url, params=para2).json()\n",
    "        pages = res2.get(\"query\", {}).get(\"pages\", [])\n",
    "        \n",
    "        if pages and \"original\" in pages[0]:\n",
    "            img_url = pages[0][\"original\"][\"source\"]\n",
    "\n",
    "        if img_url:\n",
    "            res3 = requests.get(img_url, headers=headers)\n",
    "            res3.raise_for_status()\n",
    "    \n",
    "        filename = art + \".jpg\"\n",
    "        \n",
    "        with open(folder / filename, \"wb\") as f:\n",
    "            f.write(res3.content)"
   ]
  },
  {
   "cell_type": "code",
   "execution_count": 7,
   "id": "18e58873-6733-45f1-8ab2-621bbd1548f1",
   "metadata": {},
   "outputs": [],
   "source": [
    "folder_path = Path.home() / \"Desktop\" / \"WikiArt101\"\n",
    "filenames = [file.stem for file in folder_path.iterdir() if file.is_file()]"
   ]
  },
  {
   "cell_type": "code",
   "execution_count": 8,
   "id": "6852fdeb-e75e-40e1-9d4c-677f549b15c6",
   "metadata": {},
   "outputs": [],
   "source": [
    "for art in artlist:\n",
    "    if art not in filenames:\n",
    "        print(art)"
   ]
  },
  {
   "cell_type": "code",
   "execution_count": null,
   "id": "3334f66f-0b38-40e6-9651-dc2c4f9de325",
   "metadata": {},
   "outputs": [],
   "source": []
  }
 ],
 "metadata": {
  "kernelspec": {
   "display_name": "Python 3 (ipykernel)",
   "language": "python",
   "name": "python3"
  },
  "language_info": {
   "codemirror_mode": {
    "name": "ipython",
    "version": 3
   },
   "file_extension": ".py",
   "mimetype": "text/x-python",
   "name": "python",
   "nbconvert_exporter": "python",
   "pygments_lexer": "ipython3",
   "version": "3.13.4"
  }
 },
 "nbformat": 4,
 "nbformat_minor": 5
}
